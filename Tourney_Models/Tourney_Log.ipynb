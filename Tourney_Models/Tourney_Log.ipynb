{
 "cells": [
  {
   "cell_type": "code",
   "execution_count": null,
   "metadata": {},
   "outputs": [],
   "source": [
    "import matplotlib.pyplot as plt\n",
    "import pandas as pd\n",
    "from sklearn.linear_model import LogisticRegression\n",
    "from sklearn.preprocessing import StandardScaler\n",
    "from sklearn.model_selection import train_test_split\n",
    "from sklearn.metrics import confusion_matrix, classification_report"
   ]
  },
  {
   "cell_type": "code",
   "execution_count": null,
   "metadata": {},
   "outputs": [],
   "source": [
    "hoops_df = pd.read_csv('../Resources/cbb.csv')\n",
    "hoops_df"
   ]
  },
  {
   "cell_type": "code",
   "execution_count": null,
   "metadata": {},
   "outputs": [],
   "source": [
    "hoops_df = hoops_df.drop([\"G\",\"TEAM\",\"SEED\",\"CONF\",\"YEAR\"], axis=1)\n",
    "hoops_df"
   ]
  },
  {
   "cell_type": "code",
   "execution_count": null,
   "metadata": {},
   "outputs": [],
   "source": [
    "hoops_df.dropna(inplace=True)"
   ]
  },
  {
   "cell_type": "code",
   "execution_count": null,
   "metadata": {},
   "outputs": [],
   "source": [
    "class_count = hoops_df['POSTSEASON'].value_counts()\n",
    "class_count"
   ]
  },
  {
   "cell_type": "code",
   "execution_count": null,
   "metadata": {},
   "outputs": [],
   "source": [
    "classifications_to_replace = list(class_count.index)"
   ]
  },
  {
   "cell_type": "code",
   "execution_count": null,
   "metadata": {},
   "outputs": [],
   "source": [
    "for cls in classifications_to_replace:\n",
    "    if cls == \"R68\":\n",
    "        hoops_df['POSTSEASON'] = hoops_df['POSTSEASON'].replace(cls,\"8\")\n",
    "    elif cls == \"R64\":\n",
    "        hoops_df['POSTSEASON'] = hoops_df['POSTSEASON'].replace(cls,\"7\")\n",
    "    elif cls == \"R32\":\n",
    "        hoops_df['POSTSEASON'] = hoops_df['POSTSEASON'].replace(cls,\"6\")\n",
    "    elif cls == \"S16\":\n",
    "        hoops_df['POSTSEASON'] = hoops_df['POSTSEASON'].replace(cls,\"5\")\n",
    "    elif cls == \"E8\":\n",
    "        hoops_df['POSTSEASON'] = hoops_df['POSTSEASON'].replace(cls,\"4\")\n",
    "    elif cls == \"F4\":\n",
    "        hoops_df['POSTSEASON'] = hoops_df['POSTSEASON'].replace(cls,\"3\")\n",
    "    elif cls == \"2ND\":\n",
    "        hoops_df['POSTSEASON'] = hoops_df['POSTSEASON'].replace(cls,\"2\")\n",
    "    elif cls == \"Champions\":\n",
    "        hoops_df['POSTSEASON'] = hoops_df['POSTSEASON'].replace(cls,\"1\")\n",
    "\n",
    "hoops_df['POSTSEASON'].value_counts()"
   ]
  },
  {
   "cell_type": "code",
   "execution_count": null,
   "metadata": {},
   "outputs": [],
   "source": [
    "hoops_df['POSTSEASON'] = pd.to_numeric(hoops_df['POSTSEASON'], downcast='signed')"
   ]
  },
  {
   "cell_type": "code",
   "execution_count": null,
   "metadata": {},
   "outputs": [],
   "source": [
    "hoops_df.dtypes"
   ]
  },
  {
   "cell_type": "code",
   "execution_count": null,
   "metadata": {},
   "outputs": [],
   "source": [
    "y = hoops_df['POSTSEASON'].values\n",
    "X = hoops_df.drop(['POSTSEASON'], 1).values\n",
    "\n",
    "X_train, X_test, y_train, y_test = train_test_split(X, y, random_state=47)"
   ]
  },
  {
   "cell_type": "code",
   "execution_count": null,
   "metadata": {},
   "outputs": [],
   "source": [
    "scaler = StandardScaler()\n",
    "\n",
    "# Fit the StandardScaler\n",
    "X_scaler = scaler.fit(X_train)\n",
    "\n",
    "# Scale the data\n",
    "X_train_scaled = X_scaler.transform(X_train)\n",
    "X_test_scaled = X_scaler.transform(X_test)"
   ]
  },
  {
   "cell_type": "code",
   "execution_count": null,
   "metadata": {},
   "outputs": [],
   "source": [
    "from sklearn.linear_model import LogisticRegression\n",
    "classifier = LogisticRegression()\n",
    "classifier.fit(X_train_scaled, y_train)"
   ]
  },
  {
   "cell_type": "code",
   "execution_count": null,
   "metadata": {},
   "outputs": [],
   "source": [
    "print(f\"Training Data Score: {classifier.score(X_train_scaled, y_train)}\")\n",
    "print(f\"Testing Data Score: {classifier.score(X_test_scaled, y_test)}\")"
   ]
  },
  {
   "cell_type": "code",
   "execution_count": null,
   "metadata": {},
   "outputs": [],
   "source": [
    "y_true = y_test\n",
    "y_pred = classifier.predict(X_test_scaled)\n",
    "confusion_matrix(y_true, y_pred)"
   ]
  },
  {
   "cell_type": "code",
   "execution_count": null,
   "metadata": {},
   "outputs": [],
   "source": [
    "confusion_matrix(y, classifier.predict(X))"
   ]
  },
  {
   "cell_type": "code",
   "execution_count": null,
   "metadata": {},
   "outputs": [],
   "source": [
    "print(classification_report(y_true, y_pred))"
   ]
  }
 ],
 "metadata": {
  "language_info": {
   "name": "python"
  },
  "orig_nbformat": 4
 },
 "nbformat": 4,
 "nbformat_minor": 2
}
